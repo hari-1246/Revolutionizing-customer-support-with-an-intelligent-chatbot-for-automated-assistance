{
  "nbformat": 4,
  "nbformat_minor": 0,
  "metadata": {
    "colab": {
      "private_outputs": true,
      "provenance": [],
      "authorship_tag": "ABX9TyMrOWxsFqMqm+QTDjff4FW3",
      "include_colab_link": true
    },
    "kernelspec": {
      "name": "python3",
      "display_name": "Python 3"
    },
    "language_info": {
      "name": "python"
    }
  },
  "cells": [
    {
      "cell_type": "markdown",
      "metadata": {
        "id": "view-in-github",
        "colab_type": "text"
      },
      "source": [
        "<a href=\"https://colab.research.google.com/github/hari-1246/Revolutionizing-customer-support-with-an-intelligent-chatbot-for-automated-assistance/blob/main/AI_chatbot.ipynb\" target=\"_parent\"><img src=\"https://colab.research.google.com/assets/colab-badge.svg\" alt=\"Open In Colab\"/></a>"
      ]
    },
    {
      "cell_type": "code",
      "execution_count": null,
      "metadata": {
        "id": "dnGDRoCgUnYx"
      },
      "outputs": [],
      "source": [
        "# Install necessary libraries\n",
        "!pip install nltk scikit-learn numpy\n",
        "import nltk\n",
        "nltk.download('punkt')\n",
        "import numpy as np\n",
        "from sklearn.feature_extraction.text import TfidfVectorizer\n",
        "from sklearn.naive_bayes import MultinomialNB\n",
        "from sklearn.pipeline import make_pipeline"
      ]
    },
    {
      "cell_type": "code",
      "source": [
        "from google.colab import files\n",
        "import pandas as pd\n",
        "import io\n",
        "\n",
        "# Upload the file\n",
        "uploaded = files.upload()\n",
        "\n",
        "# Get the actual filename from the uploaded dictionary\n",
        "filename = list(uploaded.keys())[0]  # Assuming only one file is uploaded\n",
        "\n",
        "# Read the CSV file using the correct filename\n",
        "df = pd.read_csv(io.BytesIO(uploaded[filename]))\n",
        "\n",
        "# Display the first few rows\n",
        "df.head()"
      ],
      "metadata": {
        "id": "sLfDBaexc7At"
      },
      "execution_count": null,
      "outputs": []
    },
    {
      "cell_type": "code",
      "source": [
        "# Rename columns for consistency\n",
        "df.columns = ['Question', 'Answer']\n",
        "\n",
        "# Drop any rows with missing values\n",
        "df.dropna(inplace=True)\n",
        "\n",
        "# Convert text to lowercase for uniformity\n",
        "df['Question'] = df['Question'].str.lower()\n",
        "df['Answer'] = df['Answer'].str.lower()"
      ],
      "metadata": {
        "id": "sr-lFbH0daYF"
      },
      "execution_count": null,
      "outputs": []
    },
    {
      "cell_type": "code",
      "source": [
        "from sklearn.feature_extraction.text import TfidfVectorizer\n",
        "from sklearn.metrics.pairwise import cosine_similarity\n",
        "\n",
        "# Initialize the vectorizer and fit on the questions\n",
        "vectorizer = TfidfVectorizer()\n",
        "X = vectorizer.fit_transform(df['Question'])\n",
        "\n",
        "def get_response(user_input):\n",
        "    user_input = user_input.lower()\n",
        "    user_vec = vectorizer.transform([user_input])\n",
        "    similarity = cosine_similarity(user_vec, X)\n",
        "    index = similarity.argmax()\n",
        "    if similarity[0, index] > 0.5:\n",
        "        return df['Answer'].iloc[index]\n",
        "    else:\n",
        "        return \"I'm sorry, I don't understand your question.\"\n",
        "\n",
        "# Chat loop\n",
        "print(\"Chatbot: Hello! How can I assist you today? (Type 'exit' to quit)\")\n",
        "while True:\n",
        "    user_input = input(\"You: \")\n",
        "    if user_input.lower() == 'exit':\n",
        "        print(\"Chatbot: Goodbye!\")\n",
        "        break\n",
        "    response = get_response(user_input)\n",
        "    print(f\"Chatbot: {response}\")"
      ],
      "metadata": {
        "id": "zwU40Hexdk9T"
      },
      "execution_count": null,
      "outputs": []
    }
  ]
}